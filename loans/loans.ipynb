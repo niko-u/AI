{
  "nbformat": 4,
  "nbformat_minor": 0,
  "metadata": {
    "colab": {
      "name": "loans.ipynb",
      "provenance": [],
      "toc_visible": true,
      "authorship_tag": "ABX9TyNw9D7Le4Cu+9tRTtH0Orqo",
      "include_colab_link": true
    },
    "kernelspec": {
      "name": "python3",
      "display_name": "Python 3"
    },
    "language_info": {
      "name": "python"
    }
  },
  "cells": [
    {
      "cell_type": "markdown",
      "metadata": {
        "id": "view-in-github",
        "colab_type": "text"
      },
      "source": [
        "<a href=\"https://colab.research.google.com/github/niko-u/AI/blob/main/loans.ipynb\" target=\"_parent\"><img src=\"https://colab.research.google.com/assets/colab-badge.svg\" alt=\"Open In Colab\"/></a>"
      ]
    },
    {
      "cell_type": "markdown",
      "metadata": {
        "id": "lcZXZttuGhGP"
      },
      "source": [
        "imports"
      ]
    },
    {
      "cell_type": "code",
      "metadata": {
        "id": "qLhGKRYkGjAA"
      },
      "source": [
        "import tensorflow as tf\n",
        "import numpy as np\n",
        "import matplotlib.pyplot as plt\n",
        "import pandas as pd"
      ],
      "execution_count": 30,
      "outputs": []
    },
    {
      "cell_type": "markdown",
      "metadata": {
        "id": "bjSw61ysIPlh"
      },
      "source": [
        "importing the dataset"
      ]
    },
    {
      "cell_type": "code",
      "metadata": {
        "id": "IfVAyqCVGvv4"
      },
      "source": [
        "dataset = pd.read_csv(\"loan_data.csv\")\n",
        "x = dataset.iloc[:, 1:].values\n",
        "y = dataset.iloc[:, :1].values"
      ],
      "execution_count": 24,
      "outputs": []
    },
    {
      "cell_type": "markdown",
      "metadata": {
        "id": "tzu6OC2TIT8S"
      },
      "source": [
        "Encoding"
      ]
    },
    {
      "cell_type": "code",
      "metadata": {
        "id": "xlVujB9sJPi4"
      },
      "source": [
        "from sklearn.compose import ColumnTransformer\n",
        "from sklearn.preprocessing import OneHotEncoder\n",
        "ct = ColumnTransformer(transformers=[(\"encoder\", OneHotEncoder(), [0])], remainder=\"passthrough\")\n",
        "x = np.array(ct.fit_transform(x))"
      ],
      "execution_count": 25,
      "outputs": []
    },
    {
      "cell_type": "markdown",
      "metadata": {
        "id": "7Mbj84zcJl2J"
      },
      "source": [
        "Training and test sets"
      ]
    },
    {
      "cell_type": "code",
      "metadata": {
        "id": "Nhn7EHtxJpNu"
      },
      "source": [
        "from sklearn.model_selection import train_test_split\n",
        "x_train, x_test, y_train, y_test = train_test_split(x, y, test_size = 0.20, random_state = 1)"
      ],
      "execution_count": 26,
      "outputs": []
    },
    {
      "cell_type": "code",
      "metadata": {
        "id": "zDnQCRl6TC8r"
      },
      "source": [
        "Feature scaling"
      ],
      "execution_count": null,
      "outputs": []
    },
    {
      "cell_type": "markdown",
      "metadata": {
        "id": "Z7PNa0BGTCcH"
      },
      "source": [
        ""
      ]
    },
    {
      "cell_type": "code",
      "metadata": {
        "id": "XphsMEfgKGGF"
      },
      "source": [
        "from sklearn.preprocessing import StandardScaler\n",
        "sc = StandardScaler()\n",
        "x_train = sc.fit_transform(x_train)\n",
        "x_test = sc.transform(x_test)"
      ],
      "execution_count": 28,
      "outputs": []
    },
    {
      "cell_type": "markdown",
      "metadata": {
        "id": "Zt6Ww-qAM1Fr"
      },
      "source": [
        "Building the ANN"
      ]
    },
    {
      "cell_type": "code",
      "metadata": {
        "id": "6bvG7E9GM3Tt"
      },
      "source": [
        "ann = tf.keras.models.Sequential()"
      ],
      "execution_count": 41,
      "outputs": []
    },
    {
      "cell_type": "code",
      "metadata": {
        "id": "6xcsMW9bM5t_"
      },
      "source": [
        "ann.add(tf.keras.layers.Dense(units=10, activation=\"relu\"))"
      ],
      "execution_count": 42,
      "outputs": []
    },
    {
      "cell_type": "code",
      "metadata": {
        "id": "QIb9lxPVM9aY"
      },
      "source": [
        "ann.add(tf.keras.layers.Dense(units=10, activation=\"relu\"))"
      ],
      "execution_count": 43,
      "outputs": []
    },
    {
      "cell_type": "code",
      "metadata": {
        "id": "qjn8y4ViNAWS"
      },
      "source": [
        "ann.add(tf.keras.layers.Dense(units=1, activation=\"sigmoid\"))"
      ],
      "execution_count": 44,
      "outputs": []
    },
    {
      "cell_type": "code",
      "metadata": {
        "id": "IcWF58NnNHbu"
      },
      "source": [
        "ann.compile(optimizer = \"adam\", loss = \"binary_crossentropy\", metrics = [\"accuracy\"])"
      ],
      "execution_count": 45,
      "outputs": []
    },
    {
      "cell_type": "code",
      "metadata": {
        "colab": {
          "base_uri": "https://localhost:8080/"
        },
        "id": "iQzRJK1DNpsK",
        "outputId": "2eef967c-5795-4b9b-daab-857405e283f9"
      },
      "source": [
        "ann.fit(x_train, y_train, epochs=300)"
      ],
      "execution_count": 46,
      "outputs": [
        {
          "output_type": "stream",
          "text": [
            "Epoch 1/300\n",
            "240/240 [==============================] - 1s 2ms/step - loss: 0.5140 - accuracy: 0.7972\n",
            "Epoch 2/300\n",
            "240/240 [==============================] - 0s 2ms/step - loss: 0.3457 - accuracy: 0.8677\n",
            "Epoch 3/300\n",
            "240/240 [==============================] - 0s 1ms/step - loss: 0.2696 - accuracy: 0.8952\n",
            "Epoch 4/300\n",
            "240/240 [==============================] - 0s 2ms/step - loss: 0.2463 - accuracy: 0.9032\n",
            "Epoch 5/300\n",
            "240/240 [==============================] - 0s 1ms/step - loss: 0.2351 - accuracy: 0.9077\n",
            "Epoch 6/300\n",
            "240/240 [==============================] - 0s 2ms/step - loss: 0.2278 - accuracy: 0.9096\n",
            "Epoch 7/300\n",
            "240/240 [==============================] - 0s 2ms/step - loss: 0.2211 - accuracy: 0.9119\n",
            "Epoch 8/300\n",
            "240/240 [==============================] - 0s 2ms/step - loss: 0.2159 - accuracy: 0.9146\n",
            "Epoch 9/300\n",
            "240/240 [==============================] - 0s 2ms/step - loss: 0.2105 - accuracy: 0.9175\n",
            "Epoch 10/300\n",
            "240/240 [==============================] - 0s 2ms/step - loss: 0.2058 - accuracy: 0.9175\n",
            "Epoch 11/300\n",
            "240/240 [==============================] - 0s 2ms/step - loss: 0.2017 - accuracy: 0.9221\n",
            "Epoch 12/300\n",
            "240/240 [==============================] - 0s 2ms/step - loss: 0.1978 - accuracy: 0.9214\n",
            "Epoch 13/300\n",
            "240/240 [==============================] - 0s 1ms/step - loss: 0.1935 - accuracy: 0.9247\n",
            "Epoch 14/300\n",
            "240/240 [==============================] - 0s 2ms/step - loss: 0.1894 - accuracy: 0.9248\n",
            "Epoch 15/300\n",
            "240/240 [==============================] - 0s 2ms/step - loss: 0.1858 - accuracy: 0.9277\n",
            "Epoch 16/300\n",
            "240/240 [==============================] - 0s 2ms/step - loss: 0.1825 - accuracy: 0.9293\n",
            "Epoch 17/300\n",
            "240/240 [==============================] - 0s 2ms/step - loss: 0.1797 - accuracy: 0.9294\n",
            "Epoch 18/300\n",
            "240/240 [==============================] - 0s 2ms/step - loss: 0.1775 - accuracy: 0.9308\n",
            "Epoch 19/300\n",
            "240/240 [==============================] - 0s 2ms/step - loss: 0.1745 - accuracy: 0.9315\n",
            "Epoch 20/300\n",
            "240/240 [==============================] - 0s 2ms/step - loss: 0.1729 - accuracy: 0.9317\n",
            "Epoch 21/300\n",
            "240/240 [==============================] - 0s 2ms/step - loss: 0.1716 - accuracy: 0.9328\n",
            "Epoch 22/300\n",
            "240/240 [==============================] - 0s 2ms/step - loss: 0.1691 - accuracy: 0.9363\n",
            "Epoch 23/300\n",
            "240/240 [==============================] - 0s 2ms/step - loss: 0.1669 - accuracy: 0.9349\n",
            "Epoch 24/300\n",
            "240/240 [==============================] - 0s 2ms/step - loss: 0.1662 - accuracy: 0.9370\n",
            "Epoch 25/300\n",
            "240/240 [==============================] - 0s 2ms/step - loss: 0.1642 - accuracy: 0.9372\n",
            "Epoch 26/300\n",
            "240/240 [==============================] - 0s 1ms/step - loss: 0.1625 - accuracy: 0.9394\n",
            "Epoch 27/300\n",
            "240/240 [==============================] - 0s 2ms/step - loss: 0.1610 - accuracy: 0.9377\n",
            "Epoch 28/300\n",
            "240/240 [==============================] - 0s 2ms/step - loss: 0.1605 - accuracy: 0.9385\n",
            "Epoch 29/300\n",
            "240/240 [==============================] - 0s 2ms/step - loss: 0.1582 - accuracy: 0.9404\n",
            "Epoch 30/300\n",
            "240/240 [==============================] - 0s 2ms/step - loss: 0.1581 - accuracy: 0.9397\n",
            "Epoch 31/300\n",
            "240/240 [==============================] - 0s 2ms/step - loss: 0.1562 - accuracy: 0.9401\n",
            "Epoch 32/300\n",
            "240/240 [==============================] - 0s 2ms/step - loss: 0.1550 - accuracy: 0.9409\n",
            "Epoch 33/300\n",
            "240/240 [==============================] - 0s 2ms/step - loss: 0.1540 - accuracy: 0.9411\n",
            "Epoch 34/300\n",
            "240/240 [==============================] - 0s 2ms/step - loss: 0.1531 - accuracy: 0.9423\n",
            "Epoch 35/300\n",
            "240/240 [==============================] - 0s 2ms/step - loss: 0.1523 - accuracy: 0.9424\n",
            "Epoch 36/300\n",
            "240/240 [==============================] - 0s 2ms/step - loss: 0.1518 - accuracy: 0.9423\n",
            "Epoch 37/300\n",
            "240/240 [==============================] - 0s 2ms/step - loss: 0.1504 - accuracy: 0.9448\n",
            "Epoch 38/300\n",
            "240/240 [==============================] - 0s 2ms/step - loss: 0.1495 - accuracy: 0.9434\n",
            "Epoch 39/300\n",
            "240/240 [==============================] - 0s 2ms/step - loss: 0.1495 - accuracy: 0.9427\n",
            "Epoch 40/300\n",
            "240/240 [==============================] - 0s 2ms/step - loss: 0.1484 - accuracy: 0.9443\n",
            "Epoch 41/300\n",
            "240/240 [==============================] - 0s 2ms/step - loss: 0.1473 - accuracy: 0.9454\n",
            "Epoch 42/300\n",
            "240/240 [==============================] - 0s 2ms/step - loss: 0.1465 - accuracy: 0.9469\n",
            "Epoch 43/300\n",
            "240/240 [==============================] - 0s 2ms/step - loss: 0.1451 - accuracy: 0.9483\n",
            "Epoch 44/300\n",
            "240/240 [==============================] - 0s 2ms/step - loss: 0.1449 - accuracy: 0.9474\n",
            "Epoch 45/300\n",
            "240/240 [==============================] - 0s 2ms/step - loss: 0.1438 - accuracy: 0.9474\n",
            "Epoch 46/300\n",
            "240/240 [==============================] - 0s 2ms/step - loss: 0.1434 - accuracy: 0.9482\n",
            "Epoch 47/300\n",
            "240/240 [==============================] - 0s 2ms/step - loss: 0.1427 - accuracy: 0.9477\n",
            "Epoch 48/300\n",
            "240/240 [==============================] - 0s 2ms/step - loss: 0.1419 - accuracy: 0.9484\n",
            "Epoch 49/300\n",
            "240/240 [==============================] - 0s 2ms/step - loss: 0.1415 - accuracy: 0.9482\n",
            "Epoch 50/300\n",
            "240/240 [==============================] - 0s 2ms/step - loss: 0.1405 - accuracy: 0.9486\n",
            "Epoch 51/300\n",
            "240/240 [==============================] - 0s 1ms/step - loss: 0.1403 - accuracy: 0.9498\n",
            "Epoch 52/300\n",
            "240/240 [==============================] - 0s 2ms/step - loss: 0.1396 - accuracy: 0.9509\n",
            "Epoch 53/300\n",
            "240/240 [==============================] - 0s 2ms/step - loss: 0.1388 - accuracy: 0.9492\n",
            "Epoch 54/300\n",
            "240/240 [==============================] - 0s 2ms/step - loss: 0.1389 - accuracy: 0.9491\n",
            "Epoch 55/300\n",
            "240/240 [==============================] - 0s 2ms/step - loss: 0.1385 - accuracy: 0.9490\n",
            "Epoch 56/300\n",
            "240/240 [==============================] - 0s 2ms/step - loss: 0.1376 - accuracy: 0.9513\n",
            "Epoch 57/300\n",
            "240/240 [==============================] - 0s 1ms/step - loss: 0.1369 - accuracy: 0.9492\n",
            "Epoch 58/300\n",
            "240/240 [==============================] - 0s 2ms/step - loss: 0.1368 - accuracy: 0.9513\n",
            "Epoch 59/300\n",
            "240/240 [==============================] - 0s 2ms/step - loss: 0.1368 - accuracy: 0.9505\n",
            "Epoch 60/300\n",
            "240/240 [==============================] - 0s 2ms/step - loss: 0.1355 - accuracy: 0.9503\n",
            "Epoch 61/300\n",
            "240/240 [==============================] - 0s 2ms/step - loss: 0.1359 - accuracy: 0.9526\n",
            "Epoch 62/300\n",
            "240/240 [==============================] - 0s 2ms/step - loss: 0.1348 - accuracy: 0.9521\n",
            "Epoch 63/300\n",
            "240/240 [==============================] - 0s 2ms/step - loss: 0.1342 - accuracy: 0.9516\n",
            "Epoch 64/300\n",
            "240/240 [==============================] - 0s 1ms/step - loss: 0.1338 - accuracy: 0.9516\n",
            "Epoch 65/300\n",
            "240/240 [==============================] - 0s 2ms/step - loss: 0.1328 - accuracy: 0.9525\n",
            "Epoch 66/300\n",
            "240/240 [==============================] - 0s 2ms/step - loss: 0.1332 - accuracy: 0.9509\n",
            "Epoch 67/300\n",
            "240/240 [==============================] - 0s 2ms/step - loss: 0.1326 - accuracy: 0.9520\n",
            "Epoch 68/300\n",
            "240/240 [==============================] - 0s 2ms/step - loss: 0.1318 - accuracy: 0.9531\n",
            "Epoch 69/300\n",
            "240/240 [==============================] - 0s 2ms/step - loss: 0.1319 - accuracy: 0.9513\n",
            "Epoch 70/300\n",
            "240/240 [==============================] - 0s 2ms/step - loss: 0.1308 - accuracy: 0.9528\n",
            "Epoch 71/300\n",
            "240/240 [==============================] - 0s 2ms/step - loss: 0.1312 - accuracy: 0.9543\n",
            "Epoch 72/300\n",
            "240/240 [==============================] - 0s 2ms/step - loss: 0.1302 - accuracy: 0.9541\n",
            "Epoch 73/300\n",
            "240/240 [==============================] - 0s 2ms/step - loss: 0.1304 - accuracy: 0.9534\n",
            "Epoch 74/300\n",
            "240/240 [==============================] - 0s 2ms/step - loss: 0.1299 - accuracy: 0.9537\n",
            "Epoch 75/300\n",
            "240/240 [==============================] - 0s 2ms/step - loss: 0.1295 - accuracy: 0.9535\n",
            "Epoch 76/300\n",
            "240/240 [==============================] - 0s 2ms/step - loss: 0.1287 - accuracy: 0.9542\n",
            "Epoch 77/300\n",
            "240/240 [==============================] - 0s 2ms/step - loss: 0.1287 - accuracy: 0.9545\n",
            "Epoch 78/300\n",
            "240/240 [==============================] - 0s 1ms/step - loss: 0.1277 - accuracy: 0.9545\n",
            "Epoch 79/300\n",
            "240/240 [==============================] - 0s 1ms/step - loss: 0.1278 - accuracy: 0.9545\n",
            "Epoch 80/300\n",
            "240/240 [==============================] - 0s 2ms/step - loss: 0.1267 - accuracy: 0.9548\n",
            "Epoch 81/300\n",
            "240/240 [==============================] - 0s 2ms/step - loss: 0.1260 - accuracy: 0.9559\n",
            "Epoch 82/300\n",
            "240/240 [==============================] - 0s 2ms/step - loss: 0.1263 - accuracy: 0.9558\n",
            "Epoch 83/300\n",
            "240/240 [==============================] - 0s 2ms/step - loss: 0.1249 - accuracy: 0.9573\n",
            "Epoch 84/300\n",
            "240/240 [==============================] - 0s 2ms/step - loss: 0.1263 - accuracy: 0.9563\n",
            "Epoch 85/300\n",
            "240/240 [==============================] - 0s 2ms/step - loss: 0.1247 - accuracy: 0.9568\n",
            "Epoch 86/300\n",
            "240/240 [==============================] - 0s 2ms/step - loss: 0.1258 - accuracy: 0.9543\n",
            "Epoch 87/300\n",
            "240/240 [==============================] - 0s 2ms/step - loss: 0.1240 - accuracy: 0.9582\n",
            "Epoch 88/300\n",
            "240/240 [==============================] - 0s 2ms/step - loss: 0.1231 - accuracy: 0.9569\n",
            "Epoch 89/300\n",
            "240/240 [==============================] - 0s 2ms/step - loss: 0.1235 - accuracy: 0.9571\n",
            "Epoch 90/300\n",
            "240/240 [==============================] - 0s 2ms/step - loss: 0.1227 - accuracy: 0.9575\n",
            "Epoch 91/300\n",
            "240/240 [==============================] - 0s 2ms/step - loss: 0.1213 - accuracy: 0.9591\n",
            "Epoch 92/300\n",
            "240/240 [==============================] - 0s 1ms/step - loss: 0.1222 - accuracy: 0.9588\n",
            "Epoch 93/300\n",
            "240/240 [==============================] - 0s 2ms/step - loss: 0.1215 - accuracy: 0.9588\n",
            "Epoch 94/300\n",
            "240/240 [==============================] - 0s 2ms/step - loss: 0.1205 - accuracy: 0.9586\n",
            "Epoch 95/300\n",
            "240/240 [==============================] - 0s 2ms/step - loss: 0.1206 - accuracy: 0.9593\n",
            "Epoch 96/300\n",
            "240/240 [==============================] - 0s 2ms/step - loss: 0.1201 - accuracy: 0.9601\n",
            "Epoch 97/300\n",
            "240/240 [==============================] - 0s 2ms/step - loss: 0.1198 - accuracy: 0.9591\n",
            "Epoch 98/300\n",
            "240/240 [==============================] - 0s 2ms/step - loss: 0.1196 - accuracy: 0.9602\n",
            "Epoch 99/300\n",
            "240/240 [==============================] - 0s 2ms/step - loss: 0.1192 - accuracy: 0.9582\n",
            "Epoch 100/300\n",
            "240/240 [==============================] - 0s 2ms/step - loss: 0.1187 - accuracy: 0.9597\n",
            "Epoch 101/300\n",
            "240/240 [==============================] - 0s 2ms/step - loss: 0.1183 - accuracy: 0.9582\n",
            "Epoch 102/300\n",
            "240/240 [==============================] - 0s 2ms/step - loss: 0.1179 - accuracy: 0.9595\n",
            "Epoch 103/300\n",
            "240/240 [==============================] - 0s 2ms/step - loss: 0.1176 - accuracy: 0.9606\n",
            "Epoch 104/300\n",
            "240/240 [==============================] - 0s 2ms/step - loss: 0.1180 - accuracy: 0.9606\n",
            "Epoch 105/300\n",
            "240/240 [==============================] - 0s 2ms/step - loss: 0.1163 - accuracy: 0.9607\n",
            "Epoch 106/300\n",
            "240/240 [==============================] - 0s 2ms/step - loss: 0.1162 - accuracy: 0.9612\n",
            "Epoch 107/300\n",
            "240/240 [==============================] - 0s 1ms/step - loss: 0.1171 - accuracy: 0.9603\n",
            "Epoch 108/300\n",
            "240/240 [==============================] - 0s 2ms/step - loss: 0.1148 - accuracy: 0.9605\n",
            "Epoch 109/300\n",
            "240/240 [==============================] - 0s 2ms/step - loss: 0.1155 - accuracy: 0.9615\n",
            "Epoch 110/300\n",
            "240/240 [==============================] - 0s 1ms/step - loss: 0.1148 - accuracy: 0.9629\n",
            "Epoch 111/300\n",
            "240/240 [==============================] - 0s 2ms/step - loss: 0.1146 - accuracy: 0.9607\n",
            "Epoch 112/300\n",
            "240/240 [==============================] - 0s 1ms/step - loss: 0.1144 - accuracy: 0.9619\n",
            "Epoch 113/300\n",
            "240/240 [==============================] - 0s 2ms/step - loss: 0.1143 - accuracy: 0.9628\n",
            "Epoch 114/300\n",
            "240/240 [==============================] - 0s 1ms/step - loss: 0.1142 - accuracy: 0.9622\n",
            "Epoch 115/300\n",
            "240/240 [==============================] - 0s 2ms/step - loss: 0.1137 - accuracy: 0.9636\n",
            "Epoch 116/300\n",
            "240/240 [==============================] - 0s 2ms/step - loss: 0.1144 - accuracy: 0.9629\n",
            "Epoch 117/300\n",
            "240/240 [==============================] - 0s 2ms/step - loss: 0.1138 - accuracy: 0.9638\n",
            "Epoch 118/300\n",
            "240/240 [==============================] - 0s 2ms/step - loss: 0.1127 - accuracy: 0.9637\n",
            "Epoch 119/300\n",
            "240/240 [==============================] - 0s 2ms/step - loss: 0.1122 - accuracy: 0.9625\n",
            "Epoch 120/300\n",
            "240/240 [==============================] - 0s 2ms/step - loss: 0.1125 - accuracy: 0.9627\n",
            "Epoch 121/300\n",
            "240/240 [==============================] - 0s 2ms/step - loss: 0.1120 - accuracy: 0.9629\n",
            "Epoch 122/300\n",
            "240/240 [==============================] - 0s 2ms/step - loss: 0.1125 - accuracy: 0.9633\n",
            "Epoch 123/300\n",
            "240/240 [==============================] - 0s 2ms/step - loss: 0.1129 - accuracy: 0.9620\n",
            "Epoch 124/300\n",
            "240/240 [==============================] - 0s 2ms/step - loss: 0.1109 - accuracy: 0.9637\n",
            "Epoch 125/300\n",
            "240/240 [==============================] - 0s 2ms/step - loss: 0.1114 - accuracy: 0.9631\n",
            "Epoch 126/300\n",
            "240/240 [==============================] - 0s 2ms/step - loss: 0.1108 - accuracy: 0.9637\n",
            "Epoch 127/300\n",
            "240/240 [==============================] - 0s 2ms/step - loss: 0.1104 - accuracy: 0.9628\n",
            "Epoch 128/300\n",
            "240/240 [==============================] - 0s 2ms/step - loss: 0.1102 - accuracy: 0.9638\n",
            "Epoch 129/300\n",
            "240/240 [==============================] - 0s 2ms/step - loss: 0.1105 - accuracy: 0.9633\n",
            "Epoch 130/300\n",
            "240/240 [==============================] - 0s 2ms/step - loss: 0.1101 - accuracy: 0.9644\n",
            "Epoch 131/300\n",
            "240/240 [==============================] - 0s 2ms/step - loss: 0.1097 - accuracy: 0.9654\n",
            "Epoch 132/300\n",
            "240/240 [==============================] - 0s 2ms/step - loss: 0.1097 - accuracy: 0.9642\n",
            "Epoch 133/300\n",
            "240/240 [==============================] - 0s 1ms/step - loss: 0.1088 - accuracy: 0.9650\n",
            "Epoch 134/300\n",
            "240/240 [==============================] - 0s 2ms/step - loss: 0.1089 - accuracy: 0.9661\n",
            "Epoch 135/300\n",
            "240/240 [==============================] - 0s 2ms/step - loss: 0.1087 - accuracy: 0.9650\n",
            "Epoch 136/300\n",
            "240/240 [==============================] - 0s 2ms/step - loss: 0.1091 - accuracy: 0.9649\n",
            "Epoch 137/300\n",
            "240/240 [==============================] - 0s 2ms/step - loss: 0.1085 - accuracy: 0.9650\n",
            "Epoch 138/300\n",
            "240/240 [==============================] - 0s 2ms/step - loss: 0.1076 - accuracy: 0.9654\n",
            "Epoch 139/300\n",
            "240/240 [==============================] - 0s 2ms/step - loss: 0.1085 - accuracy: 0.9661\n",
            "Epoch 140/300\n",
            "240/240 [==============================] - 0s 2ms/step - loss: 0.1073 - accuracy: 0.9658\n",
            "Epoch 141/300\n",
            "240/240 [==============================] - 0s 2ms/step - loss: 0.1079 - accuracy: 0.9670\n",
            "Epoch 142/300\n",
            "240/240 [==============================] - 0s 2ms/step - loss: 0.1075 - accuracy: 0.9659\n",
            "Epoch 143/300\n",
            "240/240 [==============================] - 0s 2ms/step - loss: 0.1075 - accuracy: 0.9650\n",
            "Epoch 144/300\n",
            "240/240 [==============================] - 0s 2ms/step - loss: 0.1068 - accuracy: 0.9659\n",
            "Epoch 145/300\n",
            "240/240 [==============================] - 0s 2ms/step - loss: 0.1075 - accuracy: 0.9652\n",
            "Epoch 146/300\n",
            "240/240 [==============================] - 0s 2ms/step - loss: 0.1067 - accuracy: 0.9676\n",
            "Epoch 147/300\n",
            "240/240 [==============================] - 0s 2ms/step - loss: 0.1067 - accuracy: 0.9659\n",
            "Epoch 148/300\n",
            "240/240 [==============================] - 0s 2ms/step - loss: 0.1074 - accuracy: 0.9666\n",
            "Epoch 149/300\n",
            "240/240 [==============================] - 0s 2ms/step - loss: 0.1063 - accuracy: 0.9662\n",
            "Epoch 150/300\n",
            "240/240 [==============================] - 0s 2ms/step - loss: 0.1069 - accuracy: 0.9663\n",
            "Epoch 151/300\n",
            "240/240 [==============================] - 0s 2ms/step - loss: 0.1069 - accuracy: 0.9646\n",
            "Epoch 152/300\n",
            "240/240 [==============================] - 0s 2ms/step - loss: 0.1061 - accuracy: 0.9674\n",
            "Epoch 153/300\n",
            "240/240 [==============================] - 0s 2ms/step - loss: 0.1056 - accuracy: 0.9659\n",
            "Epoch 154/300\n",
            "240/240 [==============================] - 0s 2ms/step - loss: 0.1059 - accuracy: 0.9672\n",
            "Epoch 155/300\n",
            "240/240 [==============================] - 0s 2ms/step - loss: 0.1064 - accuracy: 0.9675\n",
            "Epoch 156/300\n",
            "240/240 [==============================] - 0s 2ms/step - loss: 0.1057 - accuracy: 0.9671\n",
            "Epoch 157/300\n",
            "240/240 [==============================] - 0s 2ms/step - loss: 0.1059 - accuracy: 0.9662\n",
            "Epoch 158/300\n",
            "240/240 [==============================] - 0s 2ms/step - loss: 0.1053 - accuracy: 0.9661\n",
            "Epoch 159/300\n",
            "240/240 [==============================] - 0s 2ms/step - loss: 0.1058 - accuracy: 0.9687\n",
            "Epoch 160/300\n",
            "240/240 [==============================] - 0s 2ms/step - loss: 0.1050 - accuracy: 0.9661\n",
            "Epoch 161/300\n",
            "240/240 [==============================] - 0s 2ms/step - loss: 0.1051 - accuracy: 0.9672\n",
            "Epoch 162/300\n",
            "240/240 [==============================] - 0s 2ms/step - loss: 0.1051 - accuracy: 0.9671\n",
            "Epoch 163/300\n",
            "240/240 [==============================] - 0s 2ms/step - loss: 0.1046 - accuracy: 0.9672\n",
            "Epoch 164/300\n",
            "240/240 [==============================] - 0s 2ms/step - loss: 0.1040 - accuracy: 0.9662\n",
            "Epoch 165/300\n",
            "240/240 [==============================] - 0s 2ms/step - loss: 0.1043 - accuracy: 0.9678\n",
            "Epoch 166/300\n",
            "240/240 [==============================] - 0s 2ms/step - loss: 0.1047 - accuracy: 0.9667\n",
            "Epoch 167/300\n",
            "240/240 [==============================] - 0s 2ms/step - loss: 0.1036 - accuracy: 0.9671\n",
            "Epoch 168/300\n",
            "240/240 [==============================] - 0s 2ms/step - loss: 0.1044 - accuracy: 0.9672\n",
            "Epoch 169/300\n",
            "240/240 [==============================] - 0s 2ms/step - loss: 0.1035 - accuracy: 0.9696\n",
            "Epoch 170/300\n",
            "240/240 [==============================] - 0s 2ms/step - loss: 0.1041 - accuracy: 0.9687\n",
            "Epoch 171/300\n",
            "240/240 [==============================] - 0s 2ms/step - loss: 0.1037 - accuracy: 0.9678\n",
            "Epoch 172/300\n",
            "240/240 [==============================] - 0s 2ms/step - loss: 0.1025 - accuracy: 0.9671\n",
            "Epoch 173/300\n",
            "240/240 [==============================] - 0s 2ms/step - loss: 0.1028 - accuracy: 0.9676\n",
            "Epoch 174/300\n",
            "240/240 [==============================] - 0s 2ms/step - loss: 0.1029 - accuracy: 0.9682\n",
            "Epoch 175/300\n",
            "240/240 [==============================] - 0s 2ms/step - loss: 0.1027 - accuracy: 0.9679\n",
            "Epoch 176/300\n",
            "240/240 [==============================] - 0s 2ms/step - loss: 0.1030 - accuracy: 0.9670\n",
            "Epoch 177/300\n",
            "240/240 [==============================] - 0s 2ms/step - loss: 0.1028 - accuracy: 0.9688\n",
            "Epoch 178/300\n",
            "240/240 [==============================] - 0s 2ms/step - loss: 0.1025 - accuracy: 0.9684\n",
            "Epoch 179/300\n",
            "240/240 [==============================] - 0s 2ms/step - loss: 0.1014 - accuracy: 0.9684\n",
            "Epoch 180/300\n",
            "240/240 [==============================] - 0s 2ms/step - loss: 0.1026 - accuracy: 0.9679\n",
            "Epoch 181/300\n",
            "240/240 [==============================] - 0s 2ms/step - loss: 0.1023 - accuracy: 0.9685\n",
            "Epoch 182/300\n",
            "240/240 [==============================] - 0s 2ms/step - loss: 0.1023 - accuracy: 0.9683\n",
            "Epoch 183/300\n",
            "240/240 [==============================] - 0s 2ms/step - loss: 0.1022 - accuracy: 0.9687\n",
            "Epoch 184/300\n",
            "240/240 [==============================] - 0s 2ms/step - loss: 0.1016 - accuracy: 0.9679\n",
            "Epoch 185/300\n",
            "240/240 [==============================] - 0s 2ms/step - loss: 0.1019 - accuracy: 0.9688\n",
            "Epoch 186/300\n",
            "240/240 [==============================] - 0s 2ms/step - loss: 0.1013 - accuracy: 0.9691\n",
            "Epoch 187/300\n",
            "240/240 [==============================] - 0s 2ms/step - loss: 0.1018 - accuracy: 0.9684\n",
            "Epoch 188/300\n",
            "240/240 [==============================] - 0s 2ms/step - loss: 0.1017 - accuracy: 0.9678\n",
            "Epoch 189/300\n",
            "240/240 [==============================] - 0s 2ms/step - loss: 0.1012 - accuracy: 0.9697\n",
            "Epoch 190/300\n",
            "240/240 [==============================] - 0s 2ms/step - loss: 0.1010 - accuracy: 0.9689\n",
            "Epoch 191/300\n",
            "240/240 [==============================] - 0s 2ms/step - loss: 0.1011 - accuracy: 0.9692\n",
            "Epoch 192/300\n",
            "240/240 [==============================] - 0s 2ms/step - loss: 0.1011 - accuracy: 0.9684\n",
            "Epoch 193/300\n",
            "240/240 [==============================] - 0s 2ms/step - loss: 0.1005 - accuracy: 0.9687\n",
            "Epoch 194/300\n",
            "240/240 [==============================] - 0s 2ms/step - loss: 0.1013 - accuracy: 0.9688\n",
            "Epoch 195/300\n",
            "240/240 [==============================] - 0s 2ms/step - loss: 0.1008 - accuracy: 0.9697\n",
            "Epoch 196/300\n",
            "240/240 [==============================] - 0s 2ms/step - loss: 0.1013 - accuracy: 0.9689\n",
            "Epoch 197/300\n",
            "240/240 [==============================] - 0s 2ms/step - loss: 0.1010 - accuracy: 0.9678\n",
            "Epoch 198/300\n",
            "240/240 [==============================] - 0s 2ms/step - loss: 0.0999 - accuracy: 0.9693\n",
            "Epoch 199/300\n",
            "240/240 [==============================] - 0s 2ms/step - loss: 0.1007 - accuracy: 0.9680\n",
            "Epoch 200/300\n",
            "240/240 [==============================] - 0s 2ms/step - loss: 0.1011 - accuracy: 0.9691\n",
            "Epoch 201/300\n",
            "240/240 [==============================] - 0s 2ms/step - loss: 0.1004 - accuracy: 0.9695\n",
            "Epoch 202/300\n",
            "240/240 [==============================] - 0s 2ms/step - loss: 0.1003 - accuracy: 0.9695\n",
            "Epoch 203/300\n",
            "240/240 [==============================] - 0s 2ms/step - loss: 0.1008 - accuracy: 0.9684\n",
            "Epoch 204/300\n",
            "240/240 [==============================] - 0s 2ms/step - loss: 0.1001 - accuracy: 0.9679\n",
            "Epoch 205/300\n",
            "240/240 [==============================] - 0s 2ms/step - loss: 0.1005 - accuracy: 0.9696\n",
            "Epoch 206/300\n",
            "240/240 [==============================] - 0s 2ms/step - loss: 0.0998 - accuracy: 0.9687\n",
            "Epoch 207/300\n",
            "240/240 [==============================] - 0s 2ms/step - loss: 0.0992 - accuracy: 0.9687\n",
            "Epoch 208/300\n",
            "240/240 [==============================] - 0s 2ms/step - loss: 0.0994 - accuracy: 0.9691\n",
            "Epoch 209/300\n",
            "240/240 [==============================] - 0s 2ms/step - loss: 0.0996 - accuracy: 0.9696\n",
            "Epoch 210/300\n",
            "240/240 [==============================] - 0s 2ms/step - loss: 0.0996 - accuracy: 0.9700\n",
            "Epoch 211/300\n",
            "240/240 [==============================] - 0s 2ms/step - loss: 0.1002 - accuracy: 0.9699\n",
            "Epoch 212/300\n",
            "240/240 [==============================] - 0s 2ms/step - loss: 0.0992 - accuracy: 0.9702\n",
            "Epoch 213/300\n",
            "240/240 [==============================] - 0s 2ms/step - loss: 0.0997 - accuracy: 0.9684\n",
            "Epoch 214/300\n",
            "240/240 [==============================] - 0s 2ms/step - loss: 0.0992 - accuracy: 0.9695\n",
            "Epoch 215/300\n",
            "240/240 [==============================] - 0s 2ms/step - loss: 0.0995 - accuracy: 0.9687\n",
            "Epoch 216/300\n",
            "240/240 [==============================] - 0s 2ms/step - loss: 0.0993 - accuracy: 0.9679\n",
            "Epoch 217/300\n",
            "240/240 [==============================] - 0s 2ms/step - loss: 0.0989 - accuracy: 0.9696\n",
            "Epoch 218/300\n",
            "240/240 [==============================] - 0s 2ms/step - loss: 0.0981 - accuracy: 0.9700\n",
            "Epoch 219/300\n",
            "240/240 [==============================] - 0s 2ms/step - loss: 0.0988 - accuracy: 0.9699\n",
            "Epoch 220/300\n",
            "240/240 [==============================] - 0s 2ms/step - loss: 0.0983 - accuracy: 0.9693\n",
            "Epoch 221/300\n",
            "240/240 [==============================] - 0s 2ms/step - loss: 0.0990 - accuracy: 0.9695\n",
            "Epoch 222/300\n",
            "240/240 [==============================] - 0s 2ms/step - loss: 0.0992 - accuracy: 0.9692\n",
            "Epoch 223/300\n",
            "240/240 [==============================] - 0s 2ms/step - loss: 0.0981 - accuracy: 0.9702\n",
            "Epoch 224/300\n",
            "240/240 [==============================] - 0s 2ms/step - loss: 0.0983 - accuracy: 0.9699\n",
            "Epoch 225/300\n",
            "240/240 [==============================] - 0s 2ms/step - loss: 0.0984 - accuracy: 0.9700\n",
            "Epoch 226/300\n",
            "240/240 [==============================] - 0s 2ms/step - loss: 0.0982 - accuracy: 0.9697\n",
            "Epoch 227/300\n",
            "240/240 [==============================] - 0s 2ms/step - loss: 0.0976 - accuracy: 0.9695\n",
            "Epoch 228/300\n",
            "240/240 [==============================] - 0s 2ms/step - loss: 0.0978 - accuracy: 0.9699\n",
            "Epoch 229/300\n",
            "240/240 [==============================] - 0s 2ms/step - loss: 0.0973 - accuracy: 0.9696\n",
            "Epoch 230/300\n",
            "240/240 [==============================] - 0s 2ms/step - loss: 0.0984 - accuracy: 0.9700\n",
            "Epoch 231/300\n",
            "240/240 [==============================] - 0s 2ms/step - loss: 0.0969 - accuracy: 0.9702\n",
            "Epoch 232/300\n",
            "240/240 [==============================] - 0s 2ms/step - loss: 0.0977 - accuracy: 0.9701\n",
            "Epoch 233/300\n",
            "240/240 [==============================] - 0s 2ms/step - loss: 0.0977 - accuracy: 0.9696\n",
            "Epoch 234/300\n",
            "240/240 [==============================] - 0s 2ms/step - loss: 0.0970 - accuracy: 0.9700\n",
            "Epoch 235/300\n",
            "240/240 [==============================] - 0s 2ms/step - loss: 0.0971 - accuracy: 0.9692\n",
            "Epoch 236/300\n",
            "240/240 [==============================] - 0s 2ms/step - loss: 0.0970 - accuracy: 0.9693\n",
            "Epoch 237/300\n",
            "240/240 [==============================] - 0s 2ms/step - loss: 0.0972 - accuracy: 0.9689\n",
            "Epoch 238/300\n",
            "240/240 [==============================] - 0s 2ms/step - loss: 0.0966 - accuracy: 0.9699\n",
            "Epoch 239/300\n",
            "240/240 [==============================] - 0s 2ms/step - loss: 0.0965 - accuracy: 0.9704\n",
            "Epoch 240/300\n",
            "240/240 [==============================] - 0s 2ms/step - loss: 0.0963 - accuracy: 0.9709\n",
            "Epoch 241/300\n",
            "240/240 [==============================] - 0s 2ms/step - loss: 0.0964 - accuracy: 0.9697\n",
            "Epoch 242/300\n",
            "240/240 [==============================] - 0s 2ms/step - loss: 0.0969 - accuracy: 0.9695\n",
            "Epoch 243/300\n",
            "240/240 [==============================] - 0s 2ms/step - loss: 0.0962 - accuracy: 0.9699\n",
            "Epoch 244/300\n",
            "240/240 [==============================] - 0s 2ms/step - loss: 0.0963 - accuracy: 0.9706\n",
            "Epoch 245/300\n",
            "240/240 [==============================] - 0s 2ms/step - loss: 0.0969 - accuracy: 0.9710\n",
            "Epoch 246/300\n",
            "240/240 [==============================] - 0s 2ms/step - loss: 0.0963 - accuracy: 0.9719\n",
            "Epoch 247/300\n",
            "240/240 [==============================] - 0s 2ms/step - loss: 0.0964 - accuracy: 0.9700\n",
            "Epoch 248/300\n",
            "240/240 [==============================] - 0s 2ms/step - loss: 0.0962 - accuracy: 0.9701\n",
            "Epoch 249/300\n",
            "240/240 [==============================] - 0s 2ms/step - loss: 0.0954 - accuracy: 0.9717\n",
            "Epoch 250/300\n",
            "240/240 [==============================] - 0s 2ms/step - loss: 0.0953 - accuracy: 0.9705\n",
            "Epoch 251/300\n",
            "240/240 [==============================] - 0s 2ms/step - loss: 0.0954 - accuracy: 0.9715\n",
            "Epoch 252/300\n",
            "240/240 [==============================] - 0s 2ms/step - loss: 0.0954 - accuracy: 0.9710\n",
            "Epoch 253/300\n",
            "240/240 [==============================] - 0s 2ms/step - loss: 0.0954 - accuracy: 0.9710\n",
            "Epoch 254/300\n",
            "240/240 [==============================] - 0s 2ms/step - loss: 0.0944 - accuracy: 0.9701\n",
            "Epoch 255/300\n",
            "240/240 [==============================] - 0s 2ms/step - loss: 0.0958 - accuracy: 0.9706\n",
            "Epoch 256/300\n",
            "240/240 [==============================] - 0s 2ms/step - loss: 0.0947 - accuracy: 0.9706\n",
            "Epoch 257/300\n",
            "240/240 [==============================] - 0s 2ms/step - loss: 0.0952 - accuracy: 0.9714\n",
            "Epoch 258/300\n",
            "240/240 [==============================] - 0s 2ms/step - loss: 0.0955 - accuracy: 0.9709\n",
            "Epoch 259/300\n",
            "240/240 [==============================] - 0s 2ms/step - loss: 0.0943 - accuracy: 0.9723\n",
            "Epoch 260/300\n",
            "240/240 [==============================] - 0s 2ms/step - loss: 0.0941 - accuracy: 0.9719\n",
            "Epoch 261/300\n",
            "240/240 [==============================] - 0s 2ms/step - loss: 0.0945 - accuracy: 0.9712\n",
            "Epoch 262/300\n",
            "240/240 [==============================] - 0s 2ms/step - loss: 0.0951 - accuracy: 0.9702\n",
            "Epoch 263/300\n",
            "240/240 [==============================] - 0s 2ms/step - loss: 0.0947 - accuracy: 0.9708\n",
            "Epoch 264/300\n",
            "240/240 [==============================] - 0s 2ms/step - loss: 0.0942 - accuracy: 0.9721\n",
            "Epoch 265/300\n",
            "240/240 [==============================] - 0s 2ms/step - loss: 0.0945 - accuracy: 0.9697\n",
            "Epoch 266/300\n",
            "240/240 [==============================] - 0s 2ms/step - loss: 0.0941 - accuracy: 0.9709\n",
            "Epoch 267/300\n",
            "240/240 [==============================] - 0s 2ms/step - loss: 0.0936 - accuracy: 0.9710\n",
            "Epoch 268/300\n",
            "240/240 [==============================] - 0s 2ms/step - loss: 0.0938 - accuracy: 0.9705\n",
            "Epoch 269/300\n",
            "240/240 [==============================] - 0s 2ms/step - loss: 0.0935 - accuracy: 0.9718\n",
            "Epoch 270/300\n",
            "240/240 [==============================] - 0s 2ms/step - loss: 0.0944 - accuracy: 0.9704\n",
            "Epoch 271/300\n",
            "240/240 [==============================] - 0s 2ms/step - loss: 0.0938 - accuracy: 0.9714\n",
            "Epoch 272/300\n",
            "240/240 [==============================] - 0s 2ms/step - loss: 0.0934 - accuracy: 0.9717\n",
            "Epoch 273/300\n",
            "240/240 [==============================] - 0s 2ms/step - loss: 0.0939 - accuracy: 0.9702\n",
            "Epoch 274/300\n",
            "240/240 [==============================] - 0s 2ms/step - loss: 0.0939 - accuracy: 0.9697\n",
            "Epoch 275/300\n",
            "240/240 [==============================] - 0s 2ms/step - loss: 0.0936 - accuracy: 0.9713\n",
            "Epoch 276/300\n",
            "240/240 [==============================] - 0s 2ms/step - loss: 0.0930 - accuracy: 0.9718\n",
            "Epoch 277/300\n",
            "240/240 [==============================] - 0s 2ms/step - loss: 0.0935 - accuracy: 0.9708\n",
            "Epoch 278/300\n",
            "240/240 [==============================] - 0s 2ms/step - loss: 0.0932 - accuracy: 0.9706\n",
            "Epoch 279/300\n",
            "240/240 [==============================] - 0s 2ms/step - loss: 0.0932 - accuracy: 0.9712\n",
            "Epoch 280/300\n",
            "240/240 [==============================] - 0s 2ms/step - loss: 0.0928 - accuracy: 0.9714\n",
            "Epoch 281/300\n",
            "240/240 [==============================] - 0s 2ms/step - loss: 0.0926 - accuracy: 0.9717\n",
            "Epoch 282/300\n",
            "240/240 [==============================] - 0s 2ms/step - loss: 0.0925 - accuracy: 0.9712\n",
            "Epoch 283/300\n",
            "240/240 [==============================] - 0s 2ms/step - loss: 0.0931 - accuracy: 0.9710\n",
            "Epoch 284/300\n",
            "240/240 [==============================] - 1s 2ms/step - loss: 0.0924 - accuracy: 0.9706\n",
            "Epoch 285/300\n",
            "240/240 [==============================] - 0s 2ms/step - loss: 0.0933 - accuracy: 0.9699\n",
            "Epoch 286/300\n",
            "240/240 [==============================] - 0s 2ms/step - loss: 0.0925 - accuracy: 0.9712\n",
            "Epoch 287/300\n",
            "240/240 [==============================] - 0s 2ms/step - loss: 0.0919 - accuracy: 0.9721\n",
            "Epoch 288/300\n",
            "240/240 [==============================] - 0s 2ms/step - loss: 0.0918 - accuracy: 0.9723\n",
            "Epoch 289/300\n",
            "240/240 [==============================] - 0s 2ms/step - loss: 0.0920 - accuracy: 0.9718\n",
            "Epoch 290/300\n",
            "240/240 [==============================] - 1s 2ms/step - loss: 0.0923 - accuracy: 0.9719\n",
            "Epoch 291/300\n",
            "240/240 [==============================] - 0s 2ms/step - loss: 0.0917 - accuracy: 0.9713\n",
            "Epoch 292/300\n",
            "240/240 [==============================] - 0s 2ms/step - loss: 0.0927 - accuracy: 0.9709\n",
            "Epoch 293/300\n",
            "240/240 [==============================] - 0s 2ms/step - loss: 0.0913 - accuracy: 0.9721\n",
            "Epoch 294/300\n",
            "240/240 [==============================] - 0s 2ms/step - loss: 0.0915 - accuracy: 0.9719\n",
            "Epoch 295/300\n",
            "240/240 [==============================] - 0s 2ms/step - loss: 0.0921 - accuracy: 0.9702\n",
            "Epoch 296/300\n",
            "240/240 [==============================] - 0s 2ms/step - loss: 0.0920 - accuracy: 0.9717\n",
            "Epoch 297/300\n",
            "240/240 [==============================] - 0s 2ms/step - loss: 0.0913 - accuracy: 0.9721\n",
            "Epoch 298/300\n",
            "240/240 [==============================] - 0s 2ms/step - loss: 0.0913 - accuracy: 0.9712\n",
            "Epoch 299/300\n",
            "240/240 [==============================] - 0s 2ms/step - loss: 0.0917 - accuracy: 0.9715\n",
            "Epoch 300/300\n",
            "240/240 [==============================] - 0s 2ms/step - loss: 0.0918 - accuracy: 0.9710\n"
          ],
          "name": "stdout"
        },
        {
          "output_type": "execute_result",
          "data": {
            "text/plain": [
              "<tensorflow.python.keras.callbacks.History at 0x7f7d91a91290>"
            ]
          },
          "metadata": {
            "tags": []
          },
          "execution_count": 46
        }
      ]
    },
    {
      "cell_type": "markdown",
      "metadata": {
        "id": "-6Wl_CnPTOxC"
      },
      "source": [
        "Predicting the test set results"
      ]
    },
    {
      "cell_type": "code",
      "metadata": {
        "colab": {
          "base_uri": "https://localhost:8080/"
        },
        "id": "woLsH97UTRU4",
        "outputId": "20573ecc-b1f6-4a5a-d0bb-3cc14dd9c419"
      },
      "source": [
        "y_pred = ann.predict(x_test)\n",
        "y_pred = (y_pred > 0.5)\n",
        "print(np.concatenate((y_pred.reshape(len(y_pred), 1), y_test.reshape(len(y_test), 1)), 1))"
      ],
      "execution_count": 47,
      "outputs": [
        {
          "output_type": "stream",
          "text": [
            "[[0 0]\n",
            " [1 1]\n",
            " [1 1]\n",
            " ...\n",
            " [0 0]\n",
            " [0 0]\n",
            " [1 1]]\n"
          ],
          "name": "stdout"
        }
      ]
    },
    {
      "cell_type": "markdown",
      "metadata": {
        "id": "Ab1zUiX2TXoF"
      },
      "source": [
        "Confusion Matrix"
      ]
    },
    {
      "cell_type": "code",
      "metadata": {
        "colab": {
          "base_uri": "https://localhost:8080/"
        },
        "id": "TQcQvXpaTUrV",
        "outputId": "f822cbdb-c880-4f03-f99b-ad66d34a8d24"
      },
      "source": [
        "from sklearn.metrics import confusion_matrix, accuracy_score\n",
        "cm = confusion_matrix(y_test, y_pred)\n",
        "print(cm)\n",
        "accuracy_score(y_test, y_pred)"
      ],
      "execution_count": 48,
      "outputs": [
        {
          "output_type": "stream",
          "text": [
            "[[ 322   41]\n",
            " [  26 1527]]\n"
          ],
          "name": "stdout"
        },
        {
          "output_type": "execute_result",
          "data": {
            "text/plain": [
              "0.9650313152400835"
            ]
          },
          "metadata": {
            "tags": []
          },
          "execution_count": 48
        }
      ]
    }
  ]
}
